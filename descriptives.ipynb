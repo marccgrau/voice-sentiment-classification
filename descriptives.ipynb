{
 "cells": [
  {
   "cell_type": "code",
   "execution_count": 1,
   "metadata": {},
   "outputs": [
    {
     "name": "stdout",
     "output_type": "stream",
     "text": [
      "Mean duration: 3.67 seconds\n",
      "Median duration: 3.10 seconds\n",
      "Standard deviation: 2.23 seconds\n",
      "Minimum duration: 0.00 seconds\n",
      "Maximum duration: 12.70 seconds\n"
     ]
    }
   ],
   "source": [
    "import os\n",
    "import librosa\n",
    "import numpy as np\n",
    "\n",
    "# Directory containing the audio snippets\n",
    "audio_dir = \"raw_data/test\"\n",
    "\n",
    "# List to store the duration of each audio file\n",
    "durations = []\n",
    "\n",
    "# Iterate over all files in the directory\n",
    "for filename in os.listdir(audio_dir):\n",
    "    if filename.endswith(\".wav\"):\n",
    "        # Load the audio file\n",
    "        filepath = os.path.join(audio_dir, filename)\n",
    "        y, sr = librosa.load(filepath, sr=None)\n",
    "\n",
    "        # Calculate the duration and append to the list\n",
    "        duration = librosa.get_duration(y=y, sr=sr)\n",
    "        durations.append(duration)\n",
    "\n",
    "# Calculate descriptive statistics\n",
    "mean_duration = np.mean(durations)\n",
    "median_duration = np.median(durations)\n",
    "std_duration = np.std(durations)\n",
    "min_duration = np.min(durations)\n",
    "max_duration = np.max(durations)\n",
    "\n",
    "# Print the descriptive statistics\n",
    "print(f\"Mean duration: {mean_duration:.2f} seconds\")\n",
    "print(f\"Median duration: {median_duration:.2f} seconds\")\n",
    "print(f\"Standard deviation: {std_duration:.2f} seconds\")\n",
    "print(f\"Minimum duration: {min_duration:.2f} seconds\")\n",
    "print(f\"Maximum duration: {max_duration:.2f} seconds\")\n"
   ]
  },
  {
   "cell_type": "code",
   "execution_count": null,
   "metadata": {},
   "outputs": [],
   "source": []
  }
 ],
 "metadata": {
  "kernelspec": {
   "display_name": ".venv",
   "language": "python",
   "name": "python3"
  },
  "language_info": {
   "codemirror_mode": {
    "name": "ipython",
    "version": 3
   },
   "file_extension": ".py",
   "mimetype": "text/x-python",
   "name": "python",
   "nbconvert_exporter": "python",
   "pygments_lexer": "ipython3",
   "version": "3.12.7"
  }
 },
 "nbformat": 4,
 "nbformat_minor": 2
}
