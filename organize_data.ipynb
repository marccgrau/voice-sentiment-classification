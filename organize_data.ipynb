{
 "cells": [
  {
   "cell_type": "code",
   "execution_count": 1,
   "metadata": {},
   "outputs": [
    {
     "name": "stdout",
     "output_type": "stream",
     "text": [
      "Dataset split statistics:\n",
      "Train set: 821 files (69.9%)\n",
      "Validation set: 176 files (15.0%)\n",
      "Test set: 177 files (15.1%)\n"
     ]
    }
   ],
   "source": [
    "import os\n",
    "import pandas as pd\n",
    "import shutil\n",
    "from sklearn.model_selection import train_test_split\n",
    "\n",
    "# Create directories if they don't exist\n",
    "base_dir = \"data\"\n",
    "for split in [\"train\", \"valid\", \"test\"]:\n",
    "    split_dir = os.path.join(base_dir, split)\n",
    "    os.makedirs(split_dir, exist_ok=True)\n",
    "\n",
    "# Get all wav files\n",
    "wav_files = []\n",
    "for file in os.listdir(base_dir):\n",
    "    if file.endswith(\".wav\"):\n",
    "        wav_files.append(file)\n",
    "\n",
    "# Create DataFrame\n",
    "df = pd.DataFrame({\"filename\": wav_files})\n",
    "\n",
    "# Perform train-valid-test split\n",
    "# First split into train and temp (test + valid)\n",
    "train_df, temp_df = train_test_split(df, test_size=0.3, random_state=42)\n",
    "# Split temp into valid and test\n",
    "valid_df, test_df = train_test_split(temp_df, test_size=0.5, random_state=42)\n",
    "\n",
    "# Move files to their respective directories\n",
    "splits = {\"train\": train_df, \"valid\": valid_df, \"test\": test_df}\n",
    "\n",
    "for split_name, split_df in splits.items():\n",
    "    for filename in split_df[\"filename\"]:\n",
    "        src = os.path.join(base_dir, filename)\n",
    "        dst = os.path.join(base_dir, split_name, filename)\n",
    "        shutil.move(src, dst)\n",
    "\n",
    "# Print statistics\n",
    "print(\"Dataset split statistics:\")\n",
    "print(f\"Train set: {len(train_df)} files ({len(train_df) / len(df) * 100:.1f}%)\")\n",
    "print(f\"Validation set: {len(valid_df)} files ({len(valid_df) / len(df) * 100:.1f}%)\")\n",
    "print(f\"Test set: {len(test_df)} files ({len(test_df) / len(df) * 100:.1f}%)\")"
   ]
  },
  {
   "cell_type": "code",
   "execution_count": null,
   "metadata": {},
   "outputs": [],
   "source": []
  }
 ],
 "metadata": {
  "kernelspec": {
   "display_name": ".venv",
   "language": "python",
   "name": "python3"
  },
  "language_info": {
   "codemirror_mode": {
    "name": "ipython",
    "version": 3
   },
   "file_extension": ".py",
   "mimetype": "text/x-python",
   "name": "python",
   "nbconvert_exporter": "python",
   "pygments_lexer": "ipython3",
   "version": "3.12.7"
  }
 },
 "nbformat": 4,
 "nbformat_minor": 2
}
